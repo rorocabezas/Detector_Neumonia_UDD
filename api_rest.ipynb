{
  "nbformat": 4,
  "nbformat_minor": 0,
  "metadata": {
    "colab": {
      "provenance": [],
      "authorship_tag": "ABX9TyMZBV4Bc5koqlNTvGcXXoIS",
      "include_colab_link": true
    },
    "kernelspec": {
      "name": "python3",
      "display_name": "Python 3"
    },
    "language_info": {
      "name": "python"
    }
  },
  "cells": [
    {
      "cell_type": "markdown",
      "metadata": {
        "id": "view-in-github",
        "colab_type": "text"
      },
      "source": [
        "<a href=\"https://colab.research.google.com/github/rorocabezas/Detector_Neumonia_UDD/blob/main/api_rest.ipynb\" target=\"_parent\"><img src=\"https://colab.research.google.com/assets/colab-badge.svg\" alt=\"Open In Colab\"/></a>"
      ]
    },
    {
      "cell_type": "markdown",
      "source": [
        "# Paso 0: Importa Librerias"
      ],
      "metadata": {
        "id": "xhJFUSXCSW2c"
      }
    },
    {
      "cell_type": "code",
      "source": [
        "# Instalar flask\n",
        "!pip install flask\n",
        "\n",
        "# cargar librerias\n",
        "from flask import Flask, request, render_template_string, redirect, url_for, jsonify\n",
        "from tensorflow.keras.models import load_model\n",
        "from tensorflow.keras.preprocessing import image\n",
        "from werkzeug.utils import secure_filename\n",
        "from google.colab import drive\n",
        "from google.colab.output import eval_js\n",
        "from IPython.display import display, Javascript\n",
        "import numpy as np\n",
        "import os"
      ],
      "metadata": {
        "colab": {
          "base_uri": "https://localhost:8080/"
        },
        "id": "sSkRw7WuSB1e",
        "outputId": "aaf2ed0f-d4ce-4ec3-c110-d8dd3560a407"
      },
      "execution_count": null,
      "outputs": [
        {
          "output_type": "stream",
          "name": "stdout",
          "text": [
            "Requirement already satisfied: flask in /usr/local/lib/python3.11/dist-packages (3.1.0)\n",
            "Requirement already satisfied: Werkzeug>=3.1 in /usr/local/lib/python3.11/dist-packages (from flask) (3.1.3)\n",
            "Requirement already satisfied: Jinja2>=3.1.2 in /usr/local/lib/python3.11/dist-packages (from flask) (3.1.6)\n",
            "Requirement already satisfied: itsdangerous>=2.2 in /usr/local/lib/python3.11/dist-packages (from flask) (2.2.0)\n",
            "Requirement already satisfied: click>=8.1.3 in /usr/local/lib/python3.11/dist-packages (from flask) (8.1.8)\n",
            "Requirement already satisfied: blinker>=1.9 in /usr/local/lib/python3.11/dist-packages (from flask) (1.9.0)\n",
            "Requirement already satisfied: MarkupSafe>=2.0 in /usr/local/lib/python3.11/dist-packages (from Jinja2>=3.1.2->flask) (3.0.2)\n"
          ]
        }
      ]
    },
    {
      "cell_type": "markdown",
      "source": [
        "# Paso 1: Montar Google Drive\n"
      ],
      "metadata": {
        "id": "6eFZM0OE1ikZ"
      }
    },
    {
      "cell_type": "code",
      "source": [
        "# Montar Google Drive para acceder a los datos\n",
        "drive.mount('/content/drive', force_remount=True)\n",
        "\n",
        "# Cambiar al directorio del proyecto en Google Drive\n",
        "os.chdir('/content/drive/MyDrive/UDD Bootcamps/Modulo 7/Proyecto_Final')"
      ],
      "metadata": {
        "colab": {
          "base_uri": "https://localhost:8080/"
        },
        "id": "ucN2ClZRSEVV",
        "outputId": "3be367ff-2086-4e41-f4b2-19c2ada04057"
      },
      "execution_count": null,
      "outputs": [
        {
          "output_type": "stream",
          "name": "stdout",
          "text": [
            "Mounted at /content/drive\n"
          ]
        }
      ]
    },
    {
      "cell_type": "markdown",
      "source": [
        "# Paso 2: Cargar Modelo Entrenado"
      ],
      "metadata": {
        "id": "17fgNPa5Sby8"
      }
    },
    {
      "cell_type": "code",
      "source": [
        "# Cargar el modelo entrenado\n",
        "try:\n",
        "    model = load_model('best_model.keras')\n",
        "    print(\"Modelo cargado exitosamente.\")\n",
        "except Exception as e:\n",
        "    print(f\"Error al cargar el modelo: {e}\")"
      ],
      "metadata": {
        "colab": {
          "base_uri": "https://localhost:8080/"
        },
        "id": "q-gydJBGScAF",
        "outputId": "08c3d866-e946-4e48-b08d-059694d734d1"
      },
      "execution_count": null,
      "outputs": [
        {
          "output_type": "stream",
          "name": "stdout",
          "text": [
            "Modelo cargado exitosamente.\n"
          ]
        },
        {
          "output_type": "stream",
          "name": "stderr",
          "text": [
            "/usr/local/lib/python3.11/dist-packages/keras/src/saving/saving_lib.py:757: UserWarning: Skipping variable loading for optimizer 'adam', because it has 22 variables whereas the saved optimizer has 2 variables. \n",
            "  saveable.load_own_variables(weights_store.get(inner_path))\n"
          ]
        }
      ]
    },
    {
      "cell_type": "markdown",
      "source": [
        "# Paso 3: Configuracion y ejecución de Flask  "
      ],
      "metadata": {
        "id": "IUGhdDhxSk3P"
      }
    },
    {
      "cell_type": "code",
      "source": [
        "# Configuración de Flask\n",
        "app = Flask(__name__)\n",
        "app.config['UPLOAD_FOLDER'] = '/content/drive/MyDrive/UDD Bootcamps/Modulo 7/Proyecto_Final/uploads'\n",
        "os.makedirs(app.config['UPLOAD_FOLDER'], exist_ok=True)\n",
        "\n",
        "# Página principal con el formulario para subir la imagen de rayos X\n",
        "@app.route('/')\n",
        "def index():\n",
        "    return render_template_string('''\n",
        "        <!doctype html>\n",
        "        <html lang=\"en\">\n",
        "          <head>\n",
        "            <meta charset=\"utf-8\">\n",
        "            <meta name=\"viewport\" content=\"width=device-width, initial-scale=1, shrink-to-fit=no\">\n",
        "            <link href=\"https://stackpath.bootstrapcdn.com/bootstrap/4.5.2/css/bootstrap.min.css\" rel=\"stylesheet\">\n",
        "            <title>Detector de Neumonía</title>\n",
        "            <style>\n",
        "              body {\n",
        "                padding-top: 20px;\n",
        "              }\n",
        "              .container {\n",
        "                max-width: 600px;\n",
        "              }\n",
        "            </style>\n",
        "          </head>\n",
        "          <body>\n",
        "            <div class=\"container\">\n",
        "              <h1 class=\"mt-5 text-center\">Detector de Neumonía</h1>\n",
        "              <form action=\"/predict\" method=\"post\" enctype=\"multipart/form-data\" class=\"mt-4\">\n",
        "                <div class=\"form-group\">\n",
        "                  <label for=\"file\" class=\"font-weight-bold\">Selecciona una imagen de rayos X:</label>\n",
        "                  <input type=\"file\" name=\"file\" class=\"form-control-file\" id=\"file\" required>\n",
        "                </div>\n",
        "                <button type=\"submit\" class=\"btn btn-primary btn-block\">Enviar</button>\n",
        "              </form>\n",
        "            </div>\n",
        "          </body>\n",
        "        </html>\n",
        "    ''')\n",
        "\n",
        "# Ruta para manejar la predicción via POST\n",
        "@app.route('/predict', methods=['POST'])\n",
        "def predict():\n",
        "    if 'file' not in request.files:\n",
        "        return redirect(request.url)\n",
        "    file = request.files['file']\n",
        "    if file.filename == '':\n",
        "        return redirect(request.url)\n",
        "    if file:\n",
        "        filename = secure_filename(file.filename)\n",
        "        file_path = os.path.join(app.config['UPLOAD_FOLDER'], filename)\n",
        "        file.save(file_path)\n",
        "\n",
        "        try:\n",
        "            # Preprocesar la imagen\n",
        "            img = image.load_img(file_path, target_size=(150, 150))\n",
        "            img_array = image.img_to_array(img) / 255.0\n",
        "            img_array = np.expand_dims(img_array, axis=0)\n",
        "\n",
        "            # Realizar la predicción y calcular el porcentaje de confianza\n",
        "            prediction = model.predict(img_array)\n",
        "            confidence = prediction[0][0] * 100  # Convertir a porcentaje\n",
        "            result = 'Neumonía' if prediction[0] > 0.5 else 'Normal'\n",
        "\n",
        "            # Verificar si la solicitud espera una respuesta JSON\n",
        "            if request.headers.get('Accept') == 'application/json':\n",
        "                return jsonify({\n",
        "                    'result': result,\n",
        "                    'confidence': f'{confidence:.2f}%'\n",
        "                })\n",
        "\n",
        "            # Devolver la plantilla HTML\n",
        "            return render_template_string('''\n",
        "                <!doctype html>\n",
        "                <html lang=\"en\">\n",
        "                  <head>\n",
        "                    <meta charset=\"utf-8\">\n",
        "                    <meta name=\"viewport\" content=\"width=device-width, initial-scale=1, shrink-to-fit=no\">\n",
        "                    <link href=\"https://stackpath.bootstrapcdn.com/bootstrap/4.5.2/css/bootstrap.min.css\" rel=\"stylesheet\">\n",
        "                    <title>Resultado</title>\n",
        "                    <style>\n",
        "                      body {\n",
        "                        padding-top: 20px;\n",
        "                      }\n",
        "                      .container {\n",
        "                        max-width: 600px;\n",
        "                      }\n",
        "                    </style>\n",
        "                  </head>\n",
        "                  <body>\n",
        "                    <div class=\"container\">\n",
        "                      <h1 class=\"mt-5 text-center\">Resultado de la Predicción</h1>\n",
        "                      <div class=\"alert alert-{{ 'danger' if result == 'Neumonía' else 'success' }} mt-4\" role=\"alert\">\n",
        "                        La imagen es clasificada como: <strong>{{ result }}</strong>\n",
        "                      </div>\n",
        "                      <div class=\"alert alert-info mt-4\" role=\"alert\">\n",
        "                        Porcentaje de confianza: <strong>{{ confidence|round(2) }}%</strong>\n",
        "                      </div>\n",
        "                      <a href=\"/\" class=\"btn btn-primary btn-block\">Volver</a>\n",
        "                    </div>\n",
        "                  </body>\n",
        "                </html>\n",
        "            ''', result=result, confidence=confidence)\n",
        "\n",
        "        except Exception as e:\n",
        "            return jsonify({'error': str(e)}), 500\n",
        "\n",
        "# Ejecutar la aplicación Flask\n",
        "if __name__ == '__main__':\n",
        "    PORT = 5000\n",
        "    print(f\"Eval JS...\")\n",
        "    eval_js(f\"google.colab.kernel.proxyPort({PORT})\")\n",
        "\n",
        "    # Capturar y mostrar el enlace generado por eval_js\n",
        "    display(Javascript('''\n",
        "      (async () => {\n",
        "        const url = await google.colab.kernel.proxyPort(5000);\n",
        "        const output = document.createElement('div');\n",
        "        output.innerHTML = `<p>Accede a la aplicación en esta url: <a href=\"${url}\" target=\"_blank\">${url}</a></p>`;\n",
        "        document.querySelector('#output-area').appendChild(output);\n",
        "      })();\n",
        "    '''))\n",
        "\n",
        "    app.run(host='0.0.0.0', port=PORT)"
      ],
      "metadata": {
        "colab": {
          "base_uri": "https://localhost:8080/",
          "height": 336
        },
        "id": "HO2DmPX_SlR8",
        "outputId": "48d3e565-5068-41d7-f63d-928e0759b7ea"
      },
      "execution_count": null,
      "outputs": [
        {
          "output_type": "stream",
          "name": "stdout",
          "text": [
            "Eval JS...\n"
          ]
        },
        {
          "output_type": "display_data",
          "data": {
            "text/plain": [
              "<IPython.core.display.Javascript object>"
            ],
            "application/javascript": [
              "\n",
              "      (async () => {\n",
              "        const url = await google.colab.kernel.proxyPort(5000);\n",
              "        const output = document.createElement('div');\n",
              "        output.innerHTML = `<p>Accede a la aplicación en esta url: <a href=\"${url}\" target=\"_blank\">${url}</a></p>`;\n",
              "        document.querySelector('#output-area').appendChild(output);\n",
              "      })();\n",
              "    "
            ]
          },
          "metadata": {}
        },
        {
          "output_type": "stream",
          "name": "stdout",
          "text": [
            " * Serving Flask app '__main__'\n",
            " * Debug mode: off\n"
          ]
        },
        {
          "output_type": "stream",
          "name": "stderr",
          "text": [
            "INFO:werkzeug:\u001b[31m\u001b[1mWARNING: This is a development server. Do not use it in a production deployment. Use a production WSGI server instead.\u001b[0m\n",
            " * Running on all addresses (0.0.0.0)\n",
            " * Running on http://127.0.0.1:5000\n",
            " * Running on http://172.28.0.12:5000\n",
            "INFO:werkzeug:\u001b[33mPress CTRL+C to quit\u001b[0m\n",
            "INFO:werkzeug:127.0.0.1 - - [03/May/2025 13:20:58] \"GET / HTTP/1.1\" 200 -\n",
            "INFO:werkzeug:127.0.0.1 - - [03/May/2025 13:21:05] \"\u001b[33mGET /favicon.ico HTTP/1.1\u001b[0m\" 404 -\n"
          ]
        },
        {
          "output_type": "stream",
          "name": "stdout",
          "text": [
            "\u001b[1m1/1\u001b[0m \u001b[32m━━━━━━━━━━━━━━━━━━━━\u001b[0m\u001b[37m\u001b[0m \u001b[1m1s\u001b[0m 854ms/step\n"
          ]
        },
        {
          "output_type": "stream",
          "name": "stderr",
          "text": [
            "INFO:werkzeug:127.0.0.1 - - [03/May/2025 13:21:35] \"POST /predict HTTP/1.1\" 200 -\n",
            "INFO:werkzeug:127.0.0.1 - - [03/May/2025 13:21:46] \"GET / HTTP/1.1\" 200 -\n"
          ]
        },
        {
          "output_type": "stream",
          "name": "stdout",
          "text": [
            "\u001b[1m1/1\u001b[0m \u001b[32m━━━━━━━━━━━━━━━━━━━━\u001b[0m\u001b[37m\u001b[0m \u001b[1m0s\u001b[0m 173ms/step\n"
          ]
        },
        {
          "output_type": "stream",
          "name": "stderr",
          "text": [
            "INFO:werkzeug:127.0.0.1 - - [03/May/2025 13:21:55] \"POST /predict HTTP/1.1\" 200 -\n",
            "INFO:werkzeug:127.0.0.1 - - [03/May/2025 13:22:41] \"GET / HTTP/1.1\" 200 -\n"
          ]
        }
      ]
    }
  ]
}